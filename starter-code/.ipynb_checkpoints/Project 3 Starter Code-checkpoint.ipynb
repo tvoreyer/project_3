{
 "cells": [
  {
   "cell_type": "markdown",
   "metadata": {},
   "source": [
    "# Getting started\n",
    "\n",
    "Once you've chosen your scenario, download the data from [the Iowa website](https://data.iowa.gov/Economy/Iowa-Liquor-Sales/m3tr-qhgy) in csv format. Start by loading the data with pandas. You may need to parse the date columns appropriately."
   ]
  },
  {
   "cell_type": "markdown",
   "metadata": {},
   "source": [
    "## Importing Dataset and Data Munging"
   ]
  },
  {
   "cell_type": "code",
   "execution_count": 803,
   "metadata": {
    "collapsed": false,
    "scrolled": true
   },
   "outputs": [],
   "source": [
    "import pandas as pd\n",
    "import numpy as np\n",
    "import seaborn as sns\n",
    "import matplotlib.pyplot as plt\n",
    "%matplotlib inline\n",
    "## Load the data into a DataFrame\n",
    "df = pd.read_csv('../Resources/Iowa_Liquor_sales_sample_10pct_train.csv')"
   ]
  },
  {
   "cell_type": "markdown",
   "metadata": {},
   "source": [
    "### Filling in missing values in County Names as well as misspelled city names"
   ]
  },
  {
   "cell_type": "code",
   "execution_count": 804,
   "metadata": {
    "collapsed": true
   },
   "outputs": [],
   "source": [
    "#fixing missing county names\n",
    "cc = df.set_index('City')['County'].to_frame()\n",
    "cc.dropna(inplace=True)\n",
    "undefined = pd.DataFrame([['Wayne'],['Polk'],['Fremont']], columns=['County'], index=['SEYMOUR', 'RUNNELLS', 'TABOR'])\n",
    "df2 = pd.concat([cc, undefined])\n",
    "\n",
    "def get_county(city):\n",
    "    return df2.T[city].values[0][0]\n"
   ]
  },
  {
   "cell_type": "code",
   "execution_count": 805,
   "metadata": {
    "collapsed": false
   },
   "outputs": [],
   "source": [
    "citys_wo_county = df[pd.isnull(df[\"County\"])][\"City\"].to_frame()\n",
    "for row in citys_wo_county.index:\n",
    "    df.set_value(row, 'County', get_county(citys_wo_county.ix[row]['City']))"
   ]
  },
  {
   "cell_type": "code",
   "execution_count": 807,
   "metadata": {
    "collapsed": false
   },
   "outputs": [],
   "source": [
    "#fixing spelling errors\n",
    "df['City'] = df['City'].apply(lambda x: x.replace('MOUNT PLEASANT','MT PLEASANT'))\n",
    "df['City'] = df['City'].apply(lambda x: x.replace('OTTUWMA','OTTUMWA'))\n",
    "df['City'] = df['City'].apply(lambda x: x.replace('MOUNT VERNON','MT VERNON'))\n",
    "df['City'] = df['City'].apply(lambda x: x.replace('ARNOLDS PARK','ARNOLD\\'S PARK'))\n",
    "df['City'] = df['City'].apply(lambda x: x.replace('LEMARS','LE MARS'))\n",
    "df['City'] = df['City'].apply(lambda x: x.replace('LECLAIRE','LE CLAIRE'))\n",
    "df['City'] = df['City'].apply(lambda x: x.replace('DEWITT','DE WITT'))\n",
    "df['City'] = df['City'].apply(lambda x: x.replace('GUTTENBURG','GUTTENBERG'))\n",
    "df['City'] = df['City'].apply(lambda x: x.replace('JEWELL','JEWELL JUNCTION'))\n",
    "df['City'] = df['City'].apply(lambda x: x.replace('JEWELL JUNCTION JUNCTION','JEWELL JUNCTION'))\n",
    "df['City'] = df['City'].apply(lambda x: x.replace('KELLOG','KELLOGG'))\n",
    "df['City'] = df['City'].apply(lambda x: x.replace('KELLOGGG','KELLOGG'))\n"
   ]
  },
  {
   "cell_type": "code",
   "execution_count": 810,
   "metadata": {
    "collapsed": false
   },
   "outputs": [
    {
     "data": {
      "text/html": [
       "<div>\n",
       "<table border=\"1\" class=\"dataframe\">\n",
       "  <thead>\n",
       "    <tr style=\"text-align: right;\">\n",
       "      <th></th>\n",
       "      <th>Unnamed: 0</th>\n",
       "      <th>Date</th>\n",
       "      <th>Store Number</th>\n",
       "      <th>City</th>\n",
       "      <th>Zip Code</th>\n",
       "      <th>County Number</th>\n",
       "      <th>County</th>\n",
       "      <th>Category</th>\n",
       "      <th>Category Name</th>\n",
       "      <th>Vendor Number</th>\n",
       "      <th>Item Number</th>\n",
       "      <th>Item Description</th>\n",
       "      <th>Bottle Volume (ml)</th>\n",
       "      <th>State Bottle Cost</th>\n",
       "      <th>State Bottle Retail</th>\n",
       "      <th>Bottles Sold</th>\n",
       "      <th>Sale (Dollars)</th>\n",
       "      <th>Volume Sold (Liters)</th>\n",
       "      <th>Volume Sold (Gallons)</th>\n",
       "    </tr>\n",
       "  </thead>\n",
       "  <tbody>\n",
       "  </tbody>\n",
       "</table>\n",
       "</div>"
      ],
      "text/plain": [
       "Empty DataFrame\n",
       "Columns: [Unnamed: 0, Date, Store Number, City, Zip Code, County Number, County, Category, Category Name, Vendor Number, Item Number, Item Description, Bottle Volume (ml), State Bottle Cost, State Bottle Retail, Bottles Sold, Sale (Dollars), Volume Sold (Liters), Volume Sold (Gallons)]\n",
       "Index: []"
      ]
     },
     "execution_count": 810,
     "metadata": {},
     "output_type": "execute_result"
    }
   ],
   "source": [
    "df[(df['County']=='W') | (df['County']=='P') | (df['County']=='F')]"
   ]
  },
  {
   "cell_type": "code",
   "execution_count": 809,
   "metadata": {
    "collapsed": false
   },
   "outputs": [],
   "source": [
    "#setting individual values to correct County\n",
    "df.ix[2073,'County'] = 'Wayne'\n",
    "df.ix[5842,'County'] = 'Wayne'\n",
    "df.ix[70366,'County'] = 'Wayne'\n",
    "df.ix[72786,'County'] = 'Polk'\n",
    "df.ix[73473,'County'] = 'Fremont'\n",
    "df.ix[96871,'County'] = 'Wayne'\n",
    "df.ix[104910,'County'] = 'Wayne'\n",
    "df.ix[113314,'County'] = 'Polk'\n",
    "df.ix[121184,'County'] = 'Polk'\n",
    "df.ix[136231,'County'] = 'Wayne'\n",
    "df.ix[139566,'County'] = 'Fremont'\n",
    "df.ix[188113,'County'] = 'Fremont'"
   ]
  },
  {
   "cell_type": "markdown",
   "metadata": {},
   "source": [
    "### Filling in missing values in Category Names"
   ]
  },
  {
   "cell_type": "code",
   "execution_count": 811,
   "metadata": {
    "collapsed": false
   },
   "outputs": [],
   "source": [
    "#fixing missing categories\n",
    "cat = df.set_index('Category')['Category Name'].to_frame()\n",
    "cat.dropna(inplace=True)\n",
    "undefined_cats = pd.DataFrame([[\"Moonshine\"],[\"Reposado\"],[\"Vodka\"],[\"Hennessy\"],[\"Spiced Rum\"],[\"Rum\"],[\"Amaretto\"],[\"Spirit\"],[\"Moonshine\"],[\"Moonshine\"],[\"Rum\"]], columns=['Category Name'], index=['1011700.0', '1022200.0', '1032100.0', '1052100.0', '1062400.0', '1062500.0', '1082100.0', '1082200.0', '1091100.0', '1091300.0', '1092100.0'])\n",
    "all_cats = pd.concat([cat, undefined_cats])\n",
    "\n",
    "def get_category_name(category):\n",
    "    return all_cats.T[str(float(category))].values[0]"
   ]
  },
  {
   "cell_type": "code",
   "execution_count": 812,
   "metadata": {
    "collapsed": false
   },
   "outputs": [],
   "source": [
    "category_wo_name = df[pd.isnull(df[\"Category Name\"])][\"Category\"].to_frame()\n",
    "\n",
    "for row in category_wo_name.index:\n",
    "    if not np.isnan(category_wo_name.ix[row]['Category']):\n",
    "        df.set_value(row, 'Category Name', get_category_name(category_wo_name.ix[row]['Category']))"
   ]
  },
  {
   "cell_type": "code",
   "execution_count": 813,
   "metadata": {
    "collapsed": false
   },
   "outputs": [
    {
     "name": "stdout",
     "output_type": "stream",
     "text": [
      "(243859, 18)\n"
     ]
    }
   ],
   "source": [
    "del df['County Number']\n",
    "print df.shape"
   ]
  },
  {
   "cell_type": "markdown",
   "metadata": {},
   "source": [
    "#### Converting Date field to datetime object"
   ]
  },
  {
   "cell_type": "code",
   "execution_count": 817,
   "metadata": {
    "collapsed": false
   },
   "outputs": [],
   "source": [
    "#converting to datetime\n",
    "df[\"Date\"] = pd.to_datetime(df[\"Date\"])"
   ]
  },
  {
   "cell_type": "code",
   "execution_count": 814,
   "metadata": {
    "collapsed": true
   },
   "outputs": [],
   "source": [
    "del df['Category']"
   ]
  },
  {
   "cell_type": "code",
   "execution_count": 815,
   "metadata": {
    "collapsed": false
   },
   "outputs": [],
   "source": [
    "#removing $ and converting to float\n",
    "df['State Bottle Cost'] = df['State Bottle Cost'].apply(lambda x: str(x).replace('$','')).astype(float)\n",
    "df['State Bottle Retail'] = df['State Bottle Retail'].apply(lambda x: str(x).replace('$','')).astype(float)\n",
    "df['Sale (Dollars)'] = df['Sale (Dollars)'].apply(lambda x: str(x).replace('$','')).astype(float)\n",
    "df['City'] = df['City'].apply(lambda x: x.upper())"
   ]
  },
  {
   "cell_type": "markdown",
   "metadata": {},
   "source": [
    "#### Constrain the dataframe to 2015"
   ]
  },
  {
   "cell_type": "code",
   "execution_count": 818,
   "metadata": {
    "collapsed": false
   },
   "outputs": [],
   "source": [
    "#only using the 2015 year data\n",
    "df = df[df['Date'].dt.year == 2015]"
   ]
  },
  {
   "cell_type": "markdown",
   "metadata": {},
   "source": [
    "### Creating Train/Test Split"
   ]
  },
  {
   "cell_type": "code",
   "execution_count": 819,
   "metadata": {
    "collapsed": true
   },
   "outputs": [],
   "source": [
    "df_y = df['Sale (Dollars)']\n",
    "df_X = df.drop([\"Sale (Dollars)\"], axis=1)"
   ]
  },
  {
   "cell_type": "code",
   "execution_count": 820,
   "metadata": {
    "collapsed": false
   },
   "outputs": [],
   "source": [
    "from sklearn.cross_validation import train_test_split\n",
    "\n",
    "X_train, X_test, y_train, y_test = train_test_split(df_X, df_y, test_size=.33)"
   ]
  },
  {
   "cell_type": "markdown",
   "metadata": {},
   "source": [
    "#### Concatenating X_train and Y_train for Analysis"
   ]
  },
  {
   "cell_type": "code",
   "execution_count": 821,
   "metadata": {
    "collapsed": true
   },
   "outputs": [],
   "source": [
    "train = pd.concat([X_train,y_train],axis = 1)\n",
    "test = pd.concat([X_test,y_test],axis = 1)"
   ]
  },
  {
   "cell_type": "code",
   "execution_count": 822,
   "metadata": {
    "collapsed": true
   },
   "outputs": [],
   "source": [
    "#creating total cost column\n",
    "tot_cost = df['Bottles Sold']*df['State Bottle Cost']\n",
    "insert_totcost = df.columns.get_loc('Sale (Dollars)') + 1\n",
    "df.insert(insert_totcost,'Total_Cost',tot_cost)"
   ]
  },
  {
   "cell_type": "markdown",
   "metadata": {},
   "source": [
    "# Explore the data\n",
    "\n",
    "Perform some exploratory statistical analysis and make some plots, such as histograms of transaction totals, bottles sold, etc."
   ]
  },
  {
   "cell_type": "code",
   "execution_count": 990,
   "metadata": {
    "collapsed": false
   },
   "outputs": [
    {
     "data": {
      "text/html": [
       "<div>\n",
       "<table border=\"1\" class=\"dataframe\">\n",
       "  <thead>\n",
       "    <tr style=\"text-align: right;\">\n",
       "      <th></th>\n",
       "      <th>Unnamed: 0</th>\n",
       "      <th>Date</th>\n",
       "      <th>Store Number</th>\n",
       "      <th>City</th>\n",
       "      <th>Zip Code</th>\n",
       "      <th>County</th>\n",
       "      <th>Category Name</th>\n",
       "      <th>Vendor Number</th>\n",
       "      <th>Item Number</th>\n",
       "      <th>Item Description</th>\n",
       "      <th>Bottle Volume (ml)</th>\n",
       "      <th>State Bottle Cost</th>\n",
       "      <th>State Bottle Retail</th>\n",
       "      <th>Bottles Sold</th>\n",
       "      <th>Sale (Dollars)</th>\n",
       "      <th>Total_Cost</th>\n",
       "      <th>Volume Sold (Liters)</th>\n",
       "      <th>Volume Sold (Gallons)</th>\n",
       "    </tr>\n",
       "  </thead>\n",
       "  <tbody>\n",
       "    <tr>\n",
       "      <th>0</th>\n",
       "      <td>219336</td>\n",
       "      <td>2015-06-16</td>\n",
       "      <td>2518</td>\n",
       "      <td>RED OAK</td>\n",
       "      <td>51566</td>\n",
       "      <td>Montgomery</td>\n",
       "      <td>CINNAMON SCHNAPPS</td>\n",
       "      <td>380</td>\n",
       "      <td>84636</td>\n",
       "      <td>Phillips Hot 100 Cinnamon Schnapps</td>\n",
       "      <td>750</td>\n",
       "      <td>7.45</td>\n",
       "      <td>11.18</td>\n",
       "      <td>1</td>\n",
       "      <td>11.18</td>\n",
       "      <td>7.45</td>\n",
       "      <td>0.75</td>\n",
       "      <td>0.20</td>\n",
       "    </tr>\n",
       "    <tr>\n",
       "      <th>1</th>\n",
       "      <td>140585</td>\n",
       "      <td>2015-08-20</td>\n",
       "      <td>2616</td>\n",
       "      <td>CLINTON</td>\n",
       "      <td>52732</td>\n",
       "      <td>Clinton</td>\n",
       "      <td>STRAIGHT BOURBON WHISKIES</td>\n",
       "      <td>259</td>\n",
       "      <td>18046</td>\n",
       "      <td>Evan Williams Green Label</td>\n",
       "      <td>750</td>\n",
       "      <td>5.47</td>\n",
       "      <td>8.21</td>\n",
       "      <td>12</td>\n",
       "      <td>98.52</td>\n",
       "      <td>65.64</td>\n",
       "      <td>9.00</td>\n",
       "      <td>2.38</td>\n",
       "    </tr>\n",
       "    <tr>\n",
       "      <th>2</th>\n",
       "      <td>96074</td>\n",
       "      <td>2015-11-12</td>\n",
       "      <td>4902</td>\n",
       "      <td>WATERLOO</td>\n",
       "      <td>50703</td>\n",
       "      <td>Black Hawk</td>\n",
       "      <td>IMPORTED VODKA</td>\n",
       "      <td>260</td>\n",
       "      <td>34456</td>\n",
       "      <td>Ketel One Imported Vodka</td>\n",
       "      <td>750</td>\n",
       "      <td>14.00</td>\n",
       "      <td>21.00</td>\n",
       "      <td>2</td>\n",
       "      <td>42.00</td>\n",
       "      <td>28.00</td>\n",
       "      <td>1.50</td>\n",
       "      <td>0.40</td>\n",
       "    </tr>\n",
       "    <tr>\n",
       "      <th>4</th>\n",
       "      <td>5531</td>\n",
       "      <td>2015-11-12</td>\n",
       "      <td>2633</td>\n",
       "      <td>DES MOINES</td>\n",
       "      <td>50320</td>\n",
       "      <td>Polk</td>\n",
       "      <td>FLAVORED RUM</td>\n",
       "      <td>65</td>\n",
       "      <td>44557</td>\n",
       "      <td>Cruzan Strawberry Rum</td>\n",
       "      <td>750</td>\n",
       "      <td>6.83</td>\n",
       "      <td>10.25</td>\n",
       "      <td>1</td>\n",
       "      <td>10.25</td>\n",
       "      <td>6.83</td>\n",
       "      <td>0.75</td>\n",
       "      <td>0.20</td>\n",
       "    </tr>\n",
       "    <tr>\n",
       "      <th>6</th>\n",
       "      <td>92708</td>\n",
       "      <td>2015-06-04</td>\n",
       "      <td>2665</td>\n",
       "      <td>WAUKEE</td>\n",
       "      <td>50263</td>\n",
       "      <td>Dallas</td>\n",
       "      <td>MISCELLANEOUS SCHNAPPS</td>\n",
       "      <td>55</td>\n",
       "      <td>84172</td>\n",
       "      <td>99 Bananas Mini</td>\n",
       "      <td>600</td>\n",
       "      <td>5.94</td>\n",
       "      <td>8.91</td>\n",
       "      <td>2</td>\n",
       "      <td>17.82</td>\n",
       "      <td>11.88</td>\n",
       "      <td>1.20</td>\n",
       "      <td>0.32</td>\n",
       "    </tr>\n",
       "  </tbody>\n",
       "</table>\n",
       "</div>"
      ],
      "text/plain": [
       "   Unnamed: 0       Date  Store Number        City Zip Code      County  \\\n",
       "0      219336 2015-06-16          2518     RED OAK    51566  Montgomery   \n",
       "1      140585 2015-08-20          2616     CLINTON    52732     Clinton   \n",
       "2       96074 2015-11-12          4902    WATERLOO    50703  Black Hawk   \n",
       "4        5531 2015-11-12          2633  DES MOINES    50320        Polk   \n",
       "6       92708 2015-06-04          2665      WAUKEE    50263      Dallas   \n",
       "\n",
       "               Category Name  Vendor Number  Item Number  \\\n",
       "0          CINNAMON SCHNAPPS            380        84636   \n",
       "1  STRAIGHT BOURBON WHISKIES            259        18046   \n",
       "2             IMPORTED VODKA            260        34456   \n",
       "4               FLAVORED RUM             65        44557   \n",
       "6     MISCELLANEOUS SCHNAPPS             55        84172   \n",
       "\n",
       "                     Item Description  Bottle Volume (ml)  State Bottle Cost  \\\n",
       "0  Phillips Hot 100 Cinnamon Schnapps                 750               7.45   \n",
       "1           Evan Williams Green Label                 750               5.47   \n",
       "2            Ketel One Imported Vodka                 750              14.00   \n",
       "4               Cruzan Strawberry Rum                 750               6.83   \n",
       "6                     99 Bananas Mini                 600               5.94   \n",
       "\n",
       "   State Bottle Retail  Bottles Sold  Sale (Dollars)  Total_Cost  \\\n",
       "0                11.18             1           11.18        7.45   \n",
       "1                 8.21            12           98.52       65.64   \n",
       "2                21.00             2           42.00       28.00   \n",
       "4                10.25             1           10.25        6.83   \n",
       "6                 8.91             2           17.82       11.88   \n",
       "\n",
       "   Volume Sold (Liters)  Volume Sold (Gallons)  \n",
       "0                  0.75                   0.20  \n",
       "1                  9.00                   2.38  \n",
       "2                  1.50                   0.40  \n",
       "4                  0.75                   0.20  \n",
       "6                  1.20                   0.32  "
      ]
     },
     "execution_count": 990,
     "metadata": {},
     "output_type": "execute_result"
    }
   ],
   "source": [
    "df.head()"
   ]
  },
  {
   "cell_type": "code",
   "execution_count": 991,
   "metadata": {
    "collapsed": false
   },
   "outputs": [
    {
     "data": {
      "text/html": [
       "<div>\n",
       "<table border=\"1\" class=\"dataframe\">\n",
       "  <thead>\n",
       "    <tr style=\"text-align: right;\">\n",
       "      <th></th>\n",
       "      <th>Unnamed: 0</th>\n",
       "      <th>Store Number</th>\n",
       "      <th>Vendor Number</th>\n",
       "      <th>Item Number</th>\n",
       "      <th>Bottle Volume (ml)</th>\n",
       "      <th>State Bottle Cost</th>\n",
       "      <th>State Bottle Retail</th>\n",
       "      <th>Bottles Sold</th>\n",
       "      <th>Sale (Dollars)</th>\n",
       "      <th>Total_Cost</th>\n",
       "      <th>Volume Sold (Liters)</th>\n",
       "      <th>Volume Sold (Gallons)</th>\n",
       "    </tr>\n",
       "  </thead>\n",
       "  <tbody>\n",
       "    <tr>\n",
       "      <th>count</th>\n",
       "      <td>196764.000000</td>\n",
       "      <td>196764.000000</td>\n",
       "      <td>196764.000000</td>\n",
       "      <td>196764.000000</td>\n",
       "      <td>196764.000000</td>\n",
       "      <td>196764.000000</td>\n",
       "      <td>196764.000000</td>\n",
       "      <td>196764.000000</td>\n",
       "      <td>196764.000000</td>\n",
       "      <td>196764.000000</td>\n",
       "      <td>196764.000000</td>\n",
       "      <td>196764.000000</td>\n",
       "    </tr>\n",
       "    <tr>\n",
       "      <th>mean</th>\n",
       "      <td>135422.343101</td>\n",
       "      <td>3577.936670</td>\n",
       "      <td>255.863359</td>\n",
       "      <td>45923.769546</td>\n",
       "      <td>926.247825</td>\n",
       "      <td>9.771175</td>\n",
       "      <td>14.674501</td>\n",
       "      <td>9.951856</td>\n",
       "      <td>130.806842</td>\n",
       "      <td>87.059930</td>\n",
       "      <td>9.104956</td>\n",
       "      <td>2.405479</td>\n",
       "    </tr>\n",
       "    <tr>\n",
       "      <th>std</th>\n",
       "      <td>78239.949165</td>\n",
       "      <td>942.237021</td>\n",
       "      <td>141.353133</td>\n",
       "      <td>52264.767653</td>\n",
       "      <td>492.386646</td>\n",
       "      <td>7.044314</td>\n",
       "      <td>10.566056</td>\n",
       "      <td>24.623011</td>\n",
       "      <td>391.601378</td>\n",
       "      <td>260.106356</td>\n",
       "      <td>29.677722</td>\n",
       "      <td>7.840018</td>\n",
       "    </tr>\n",
       "    <tr>\n",
       "      <th>min</th>\n",
       "      <td>0.000000</td>\n",
       "      <td>2106.000000</td>\n",
       "      <td>10.000000</td>\n",
       "      <td>173.000000</td>\n",
       "      <td>50.000000</td>\n",
       "      <td>0.890000</td>\n",
       "      <td>1.340000</td>\n",
       "      <td>1.000000</td>\n",
       "      <td>1.340000</td>\n",
       "      <td>0.890000</td>\n",
       "      <td>0.100000</td>\n",
       "      <td>0.030000</td>\n",
       "    </tr>\n",
       "    <tr>\n",
       "      <th>25%</th>\n",
       "      <td>67675.750000</td>\n",
       "      <td>2603.000000</td>\n",
       "      <td>115.000000</td>\n",
       "      <td>26828.000000</td>\n",
       "      <td>750.000000</td>\n",
       "      <td>5.510000</td>\n",
       "      <td>8.270000</td>\n",
       "      <td>2.000000</td>\n",
       "      <td>30.660000</td>\n",
       "      <td>20.400000</td>\n",
       "      <td>1.600000</td>\n",
       "      <td>0.420000</td>\n",
       "    </tr>\n",
       "    <tr>\n",
       "      <th>50%</th>\n",
       "      <td>135305.500000</td>\n",
       "      <td>3713.000000</td>\n",
       "      <td>260.000000</td>\n",
       "      <td>38176.000000</td>\n",
       "      <td>750.000000</td>\n",
       "      <td>8.000000</td>\n",
       "      <td>12.300000</td>\n",
       "      <td>6.000000</td>\n",
       "      <td>70.560000</td>\n",
       "      <td>47.040000</td>\n",
       "      <td>5.250000</td>\n",
       "      <td>1.390000</td>\n",
       "    </tr>\n",
       "    <tr>\n",
       "      <th>75%</th>\n",
       "      <td>203154.750000</td>\n",
       "      <td>4349.000000</td>\n",
       "      <td>380.000000</td>\n",
       "      <td>64573.000000</td>\n",
       "      <td>1000.000000</td>\n",
       "      <td>11.880000</td>\n",
       "      <td>17.820000</td>\n",
       "      <td>12.000000</td>\n",
       "      <td>135.240000</td>\n",
       "      <td>90.120000</td>\n",
       "      <td>10.500000</td>\n",
       "      <td>2.770000</td>\n",
       "    </tr>\n",
       "    <tr>\n",
       "      <th>max</th>\n",
       "      <td>270954.000000</td>\n",
       "      <td>9013.000000</td>\n",
       "      <td>978.000000</td>\n",
       "      <td>995381.000000</td>\n",
       "      <td>6000.000000</td>\n",
       "      <td>425.000000</td>\n",
       "      <td>637.500000</td>\n",
       "      <td>2508.000000</td>\n",
       "      <td>36392.400000</td>\n",
       "      <td>24261.600000</td>\n",
       "      <td>2508.000000</td>\n",
       "      <td>662.540000</td>\n",
       "    </tr>\n",
       "  </tbody>\n",
       "</table>\n",
       "</div>"
      ],
      "text/plain": [
       "          Unnamed: 0   Store Number  Vendor Number    Item Number  \\\n",
       "count  196764.000000  196764.000000  196764.000000  196764.000000   \n",
       "mean   135422.343101    3577.936670     255.863359   45923.769546   \n",
       "std     78239.949165     942.237021     141.353133   52264.767653   \n",
       "min         0.000000    2106.000000      10.000000     173.000000   \n",
       "25%     67675.750000    2603.000000     115.000000   26828.000000   \n",
       "50%    135305.500000    3713.000000     260.000000   38176.000000   \n",
       "75%    203154.750000    4349.000000     380.000000   64573.000000   \n",
       "max    270954.000000    9013.000000     978.000000  995381.000000   \n",
       "\n",
       "       Bottle Volume (ml)  State Bottle Cost  State Bottle Retail  \\\n",
       "count       196764.000000      196764.000000        196764.000000   \n",
       "mean           926.247825           9.771175            14.674501   \n",
       "std            492.386646           7.044314            10.566056   \n",
       "min             50.000000           0.890000             1.340000   \n",
       "25%            750.000000           5.510000             8.270000   \n",
       "50%            750.000000           8.000000            12.300000   \n",
       "75%           1000.000000          11.880000            17.820000   \n",
       "max           6000.000000         425.000000           637.500000   \n",
       "\n",
       "        Bottles Sold  Sale (Dollars)     Total_Cost  Volume Sold (Liters)  \\\n",
       "count  196764.000000   196764.000000  196764.000000         196764.000000   \n",
       "mean        9.951856      130.806842      87.059930              9.104956   \n",
       "std        24.623011      391.601378     260.106356             29.677722   \n",
       "min         1.000000        1.340000       0.890000              0.100000   \n",
       "25%         2.000000       30.660000      20.400000              1.600000   \n",
       "50%         6.000000       70.560000      47.040000              5.250000   \n",
       "75%        12.000000      135.240000      90.120000             10.500000   \n",
       "max      2508.000000    36392.400000   24261.600000           2508.000000   \n",
       "\n",
       "       Volume Sold (Gallons)  \n",
       "count          196764.000000  \n",
       "mean                2.405479  \n",
       "std                 7.840018  \n",
       "min                 0.030000  \n",
       "25%                 0.420000  \n",
       "50%                 1.390000  \n",
       "75%                 2.770000  \n",
       "max               662.540000  "
      ]
     },
     "execution_count": 991,
     "metadata": {},
     "output_type": "execute_result"
    }
   ],
   "source": [
    "df.describe()"
   ]
  },
  {
   "cell_type": "markdown",
   "metadata": {},
   "source": [
    "Bottles Sold, Sale (Dollars) are skewed, where the mean minus std is negative. Plotting Histiograms show that we need to restrict to Bottles Sold 25 and less"
   ]
  },
  {
   "cell_type": "code",
   "execution_count": 754,
   "metadata": {
    "collapsed": false
   },
   "outputs": [
    {
     "data": {
      "image/png": "[encoded data removed]",
      "text/plain": [
       "<matplotlib.figure.Figure at 0x1098bd450>"
      ]
     },
     "metadata": {},
     "output_type": "display_data"
    }
   ],
   "source": [
    "#evaluating bottles sold\n",
    "fig, axes = plt.subplots(2,2, figsize=(20,16))\n",
    "#Bottles Sold less than or equal to 10\n",
    "axes[0][0].hist(x = df[df['Bottles Sold']<=20]['Bottles Sold'],bins = 20) \n",
    "axes[0][0].xaxis.set_ticks(np.arange(0, 21, 2))\n",
    "axes[0][0].yaxis.set_ticks(np.arange(0, 70000, 5000))\n",
    "axes[0][0].set_title('Distribution of Bottles Sold (0-20)',fontsize = 20)\n",
    "axes[0][0].set_xlabel('Bottles Sold (0-20)',fontsize = 18)\n",
    "axes[0][0].set_ylabel('Count of Bottles',fontsize = 18)\n",
    "#Bottles Sold more than 10 and less than or equal to 100\n",
    "axes[0][1].hist(x = df[(df['Bottles Sold']>20) & (df['Bottles Sold']<=100)]['Bottles Sold'],bins = 20)\n",
    "axes[0][1].xaxis.set_ticks(np.arange(20, 101, 5))\n",
    "axes[0][1].yaxis.set_ticks(np.arange(0, 14000, 1000))\n",
    "axes[0][1].set_title('Distribution of Bottles Sold (21-100)',fontsize = 20)\n",
    "axes[0][1].set_xlabel('Bottles Sold (21-100)',fontsize = 18)\n",
    "axes[0][1].set_ylabel('Count of Bottles',fontsize = 18)\n",
    "#Bottles Sold more than 100 and less than or equal to 500\n",
    "axes[1][0].hist(x = df[(df['Bottles Sold']>100) & (df['Bottles Sold']<=500)]['Bottles Sold'],bins=20)\n",
    "axes[1][0].xaxis.set_ticks(np.arange(100, 501, 25))\n",
    "axes[1][0].set_title('Distribution of Bottles Sold (101-500)',fontsize = 20)\n",
    "axes[1][0].set_xlabel('Bottles Sold (101-500)',fontsize = 18)\n",
    "axes[1][0].set_ylabel('Count of Bottles',fontsize = 18)\n",
    "#Bottles Sold more than 500 and less than or equal to 2700\n",
    "axes[1][1].hist(x = df[(df['Bottles Sold']>500) & (df['Bottles Sold']<=2700)]['Bottles Sold'],bins = 20)\n",
    "axes[1][1].xaxis.set_ticks(np.arange(500, 2700, 200))\n",
    "axes[1][1].set_title('Distribution of Bottles Sold (500 and higher)',fontsize = 20)\n",
    "axes[1][1].set_xlabel('Bottles Sold (500 and higher)',fontsize = 18)\n",
    "axes[1][1].set_ylabel('Count of Bottles',fontsize = 18);"
   ]
  },
  {
   "cell_type": "code",
   "execution_count": 992,
   "metadata": {
    "collapsed": false
   },
   "outputs": [
    {
     "data": {
      "text/html": [
       "<div>\n",
       "<table border=\"1\" class=\"dataframe\">\n",
       "  <thead>\n",
       "    <tr style=\"text-align: right;\">\n",
       "      <th></th>\n",
       "      <th>Unnamed: 0</th>\n",
       "      <th>Store Number</th>\n",
       "      <th>Vendor Number</th>\n",
       "      <th>Item Number</th>\n",
       "      <th>Bottle Volume (ml)</th>\n",
       "      <th>State Bottle Cost</th>\n",
       "      <th>State Bottle Retail</th>\n",
       "      <th>Bottles Sold</th>\n",
       "      <th>Sale (Dollars)</th>\n",
       "      <th>Total_Cost</th>\n",
       "      <th>Volume Sold (Liters)</th>\n",
       "      <th>Volume Sold (Gallons)</th>\n",
       "    </tr>\n",
       "  </thead>\n",
       "  <tbody>\n",
       "    <tr>\n",
       "      <th>count</th>\n",
       "      <td>189011.000000</td>\n",
       "      <td>189011.000000</td>\n",
       "      <td>189011.000000</td>\n",
       "      <td>189011.000000</td>\n",
       "      <td>189011.000000</td>\n",
       "      <td>189011.000000</td>\n",
       "      <td>189011.000000</td>\n",
       "      <td>189011.000000</td>\n",
       "      <td>189011.000000</td>\n",
       "      <td>189011.000000</td>\n",
       "      <td>189011.000000</td>\n",
       "      <td>189011.000000</td>\n",
       "    </tr>\n",
       "    <tr>\n",
       "      <th>mean</th>\n",
       "      <td>135400.643666</td>\n",
       "      <td>3574.229759</td>\n",
       "      <td>255.868278</td>\n",
       "      <td>45962.015174</td>\n",
       "      <td>929.788224</td>\n",
       "      <td>9.840910</td>\n",
       "      <td>14.779039</td>\n",
       "      <td>7.220405</td>\n",
       "      <td>95.132509</td>\n",
       "      <td>63.341969</td>\n",
       "      <td>6.514444</td>\n",
       "      <td>1.721112</td>\n",
       "    </tr>\n",
       "    <tr>\n",
       "      <th>std</th>\n",
       "      <td>78243.565878</td>\n",
       "      <td>939.735360</td>\n",
       "      <td>141.614969</td>\n",
       "      <td>51685.660835</td>\n",
       "      <td>490.447789</td>\n",
       "      <td>7.068003</td>\n",
       "      <td>10.601422</td>\n",
       "      <td>5.905288</td>\n",
       "      <td>93.764357</td>\n",
       "      <td>62.477409</td>\n",
       "      <td>5.805414</td>\n",
       "      <td>1.533697</td>\n",
       "    </tr>\n",
       "    <tr>\n",
       "      <th>min</th>\n",
       "      <td>0.000000</td>\n",
       "      <td>2106.000000</td>\n",
       "      <td>10.000000</td>\n",
       "      <td>173.000000</td>\n",
       "      <td>50.000000</td>\n",
       "      <td>0.890000</td>\n",
       "      <td>1.340000</td>\n",
       "      <td>1.000000</td>\n",
       "      <td>1.340000</td>\n",
       "      <td>0.890000</td>\n",
       "      <td>0.100000</td>\n",
       "      <td>0.030000</td>\n",
       "    </tr>\n",
       "    <tr>\n",
       "      <th>25%</th>\n",
       "      <td>67668.500000</td>\n",
       "      <td>2603.000000</td>\n",
       "      <td>115.000000</td>\n",
       "      <td>26828.000000</td>\n",
       "      <td>750.000000</td>\n",
       "      <td>5.735000</td>\n",
       "      <td>8.630000</td>\n",
       "      <td>2.000000</td>\n",
       "      <td>29.980000</td>\n",
       "      <td>19.950000</td>\n",
       "      <td>1.500000</td>\n",
       "      <td>0.400000</td>\n",
       "    </tr>\n",
       "    <tr>\n",
       "      <th>50%</th>\n",
       "      <td>135213.000000</td>\n",
       "      <td>3713.000000</td>\n",
       "      <td>260.000000</td>\n",
       "      <td>38178.000000</td>\n",
       "      <td>750.000000</td>\n",
       "      <td>8.200000</td>\n",
       "      <td>12.300000</td>\n",
       "      <td>6.000000</td>\n",
       "      <td>67.440000</td>\n",
       "      <td>44.940000</td>\n",
       "      <td>4.500000</td>\n",
       "      <td>1.190000</td>\n",
       "    </tr>\n",
       "    <tr>\n",
       "      <th>75%</th>\n",
       "      <td>203150.500000</td>\n",
       "      <td>4345.000000</td>\n",
       "      <td>380.000000</td>\n",
       "      <td>64676.000000</td>\n",
       "      <td>1000.000000</td>\n",
       "      <td>11.920000</td>\n",
       "      <td>17.880000</td>\n",
       "      <td>12.000000</td>\n",
       "      <td>129.120000</td>\n",
       "      <td>86.040000</td>\n",
       "      <td>10.500000</td>\n",
       "      <td>2.770000</td>\n",
       "    </tr>\n",
       "    <tr>\n",
       "      <th>max</th>\n",
       "      <td>270954.000000</td>\n",
       "      <td>9010.000000</td>\n",
       "      <td>978.000000</td>\n",
       "      <td>995381.000000</td>\n",
       "      <td>6000.000000</td>\n",
       "      <td>425.000000</td>\n",
       "      <td>637.500000</td>\n",
       "      <td>25.000000</td>\n",
       "      <td>3712.500000</td>\n",
       "      <td>2475.000000</td>\n",
       "      <td>150.000000</td>\n",
       "      <td>39.630000</td>\n",
       "    </tr>\n",
       "  </tbody>\n",
       "</table>\n",
       "</div>"
      ],
      "text/plain": [
       "          Unnamed: 0   Store Number  Vendor Number    Item Number  \\\n",
       "count  189011.000000  189011.000000  189011.000000  189011.000000   \n",
       "mean   135400.643666    3574.229759     255.868278   45962.015174   \n",
       "std     78243.565878     939.735360     141.614969   51685.660835   \n",
       "min         0.000000    2106.000000      10.000000     173.000000   \n",
       "25%     67668.500000    2603.000000     115.000000   26828.000000   \n",
       "50%    135213.000000    3713.000000     260.000000   38178.000000   \n",
       "75%    203150.500000    4345.000000     380.000000   64676.000000   \n",
       "max    270954.000000    9010.000000     978.000000  995381.000000   \n",
       "\n",
       "       Bottle Volume (ml)  State Bottle Cost  State Bottle Retail  \\\n",
       "count       189011.000000      189011.000000        189011.000000   \n",
       "mean           929.788224           9.840910            14.779039   \n",
       "std            490.447789           7.068003            10.601422   \n",
       "min             50.000000           0.890000             1.340000   \n",
       "25%            750.000000           5.735000             8.630000   \n",
       "50%            750.000000           8.200000            12.300000   \n",
       "75%           1000.000000          11.920000            17.880000   \n",
       "max           6000.000000         425.000000           637.500000   \n",
       "\n",
       "        Bottles Sold  Sale (Dollars)     Total_Cost  Volume Sold (Liters)  \\\n",
       "count  189011.000000   189011.000000  189011.000000         189011.000000   \n",
       "mean        7.220405       95.132509      63.341969              6.514444   \n",
       "std         5.905288       93.764357      62.477409              5.805414   \n",
       "min         1.000000        1.340000       0.890000              0.100000   \n",
       "25%         2.000000       29.980000      19.950000              1.500000   \n",
       "50%         6.000000       67.440000      44.940000              4.500000   \n",
       "75%        12.000000      129.120000      86.040000             10.500000   \n",
       "max        25.000000     3712.500000    2475.000000            150.000000   \n",
       "\n",
       "       Volume Sold (Gallons)  \n",
       "count          189011.000000  \n",
       "mean                1.721112  \n",
       "std                 1.533697  \n",
       "min                 0.030000  \n",
       "25%                 0.400000  \n",
       "50%                 1.190000  \n",
       "75%                 2.770000  \n",
       "max                39.630000  "
      ]
     },
     "execution_count": 992,
     "metadata": {},
     "output_type": "execute_result"
    }
   ],
   "source": [
    "df[df['Bottles Sold'] < 26].describe()"
   ]
  },
  {
   "cell_type": "code",
   "execution_count": 823,
   "metadata": {
    "collapsed": true
   },
   "outputs": [],
   "source": []
  },
  {
   "cell_type": "markdown",
   "metadata": {},
   "source": [
    "By creating unique items per store, we can use it as a proxy for store size, which will one of the predictors used in the regression. The histogram for unique per items shows that it is skewed."
   ]
  },
  {
   "cell_type": "code",
   "execution_count": 995,
   "metadata": {
    "collapsed": false
   },
   "outputs": [
    {
     "name": "stdout",
     "output_type": "stream",
     "text": [
      "(1371, 2)\n",
      "The mean # of unique items per store is 91.0590809628\n",
      "The max # of unique items per store is 703\n",
      "The min # of unique items per store is 1\n",
      "The median # of unique items per store is 49.0\n"
     ]
    },
    {
     "data": {
      "text/html": [
       "<div>\n",
       "<table border=\"1\" class=\"dataframe\">\n",
       "  <thead>\n",
       "    <tr style=\"text-align: right;\">\n",
       "      <th></th>\n",
       "      <th>Store Number</th>\n",
       "      <th>Unique_Items</th>\n",
       "    </tr>\n",
       "  </thead>\n",
       "  <tbody>\n",
       "    <tr>\n",
       "      <th>0</th>\n",
       "      <td>2106</td>\n",
       "      <td>240</td>\n",
       "    </tr>\n",
       "    <tr>\n",
       "      <th>1</th>\n",
       "      <td>2113</td>\n",
       "      <td>84</td>\n",
       "    </tr>\n",
       "    <tr>\n",
       "      <th>2</th>\n",
       "      <td>2130</td>\n",
       "      <td>192</td>\n",
       "    </tr>\n",
       "    <tr>\n",
       "      <th>3</th>\n",
       "      <td>2152</td>\n",
       "      <td>68</td>\n",
       "    </tr>\n",
       "    <tr>\n",
       "      <th>4</th>\n",
       "      <td>2178</td>\n",
       "      <td>171</td>\n",
       "    </tr>\n",
       "  </tbody>\n",
       "</table>\n",
       "</div>"
      ],
      "text/plain": [
       "   Store Number  Unique_Items\n",
       "0          2106           240\n",
       "1          2113            84\n",
       "2          2130           192\n",
       "3          2152            68\n",
       "4          2178           171"
      ]
     },
     "execution_count": 995,
     "metadata": {},
     "output_type": "execute_result"
    },
    {
     "data": {
      "image/png": "[encoded data removed]",
      "text/plain": [
       "<matplotlib.figure.Figure at 0x1155e9150>"
      ]
     },
     "metadata": {},
     "output_type": "display_data"
    }
   ],
   "source": [
    "#creating unique items per store - possible proxy for sq footage given more items per store means a bigger store\n",
    "#assumption is that that if an item did not sell, the business would remove them from the shelves, each business would maximize revenues\n",
    "unique_items_per_store = df.groupby('Store Number')['Item Number'].nunique().to_frame('Unique_Items')\n",
    "unique_items_per_store.reset_index(inplace = True)\n",
    "unique_items_per_store.sort_values('Unique_Items',ascending = False)\n",
    "print unique_items_per_store.shape\n",
    "print \"The mean # of unique items per store is\", unique_items_per_store['Unique_Items'].mean()\n",
    "print \"The max # of unique items per store is\", unique_items_per_store['Unique_Items'].max()\n",
    "print \"The min # of unique items per store is\", unique_items_per_store['Unique_Items'].min()\n",
    "print \"The median # of unique items per store is\", unique_items_per_store['Unique_Items'].median()\n",
    "\n",
    "unique_items_per_store['Unique_Items'].hist(bins = 20, figsize = (15,7), color = 'crimson')\n",
    "plt.title('Frequency of Unique Items per Store',fontsize = 20)\n",
    "plt.xlabel('Unique Items per Store',fontsize = 18)\n",
    "plt.ylabel('Count',fontsize = 18)\n",
    "ax = plt.gca()\n",
    "unique_items_per_store.head()"
   ]
  },
  {
   "cell_type": "code",
   "execution_count": 826,
   "metadata": {
    "collapsed": false
   },
   "outputs": [
    {
     "data": {
      "text/html": [
       "<div>\n",
       "<table border=\"1\" class=\"dataframe\">\n",
       "  <thead>\n",
       "    <tr style=\"text-align: right;\">\n",
       "      <th></th>\n",
       "      <th>Unnamed: 0</th>\n",
       "      <th>Date</th>\n",
       "      <th>Store Number</th>\n",
       "      <th>City</th>\n",
       "      <th>Zip Code</th>\n",
       "      <th>County</th>\n",
       "      <th>Category Name</th>\n",
       "      <th>Vendor Number</th>\n",
       "      <th>Item Number</th>\n",
       "      <th>Item Description</th>\n",
       "      <th>Bottle Volume (ml)</th>\n",
       "      <th>State Bottle Cost</th>\n",
       "      <th>State Bottle Retail</th>\n",
       "      <th>Bottles Sold</th>\n",
       "      <th>Sale (Dollars)</th>\n",
       "      <th>Total_Cost</th>\n",
       "      <th>Volume Sold (Liters)</th>\n",
       "      <th>Volume Sold (Gallons)</th>\n",
       "    </tr>\n",
       "  </thead>\n",
       "  <tbody>\n",
       "    <tr>\n",
       "      <th>140109</th>\n",
       "      <td>100716</td>\n",
       "      <td>2015-12-01</td>\n",
       "      <td>9013</td>\n",
       "      <td>CUMMING</td>\n",
       "      <td>50061</td>\n",
       "      <td>Warren</td>\n",
       "      <td>BLENDED WHISKIES</td>\n",
       "      <td>154</td>\n",
       "      <td>27629</td>\n",
       "      <td>Prairie Fire</td>\n",
       "      <td>750</td>\n",
       "      <td>9.09</td>\n",
       "      <td>13.64</td>\n",
       "      <td>60</td>\n",
       "      <td>818.40</td>\n",
       "      <td>545.40</td>\n",
       "      <td>45.0</td>\n",
       "      <td>11.89</td>\n",
       "    </tr>\n",
       "    <tr>\n",
       "      <th>189956</th>\n",
       "      <td>105091</td>\n",
       "      <td>2015-06-04</td>\n",
       "      <td>9013</td>\n",
       "      <td>CUMMING</td>\n",
       "      <td>50061</td>\n",
       "      <td>Warren</td>\n",
       "      <td>VODKA 80 PROOF</td>\n",
       "      <td>154</td>\n",
       "      <td>36447</td>\n",
       "      <td>Ingenioz</td>\n",
       "      <td>750</td>\n",
       "      <td>12.54</td>\n",
       "      <td>18.81</td>\n",
       "      <td>36</td>\n",
       "      <td>677.16</td>\n",
       "      <td>451.44</td>\n",
       "      <td>27.0</td>\n",
       "      <td>7.13</td>\n",
       "    </tr>\n",
       "  </tbody>\n",
       "</table>\n",
       "</div>"
      ],
      "text/plain": [
       "        Unnamed: 0       Date  Store Number     City Zip Code  County  \\\n",
       "140109      100716 2015-12-01          9013  CUMMING    50061  Warren   \n",
       "189956      105091 2015-06-04          9013  CUMMING    50061  Warren   \n",
       "\n",
       "           Category Name  Vendor Number  Item Number Item Description  \\\n",
       "140109  BLENDED WHISKIES            154        27629     Prairie Fire   \n",
       "189956    VODKA 80 PROOF            154        36447         Ingenioz   \n",
       "\n",
       "        Bottle Volume (ml)  State Bottle Cost  State Bottle Retail  \\\n",
       "140109                 750               9.09                13.64   \n",
       "189956                 750              12.54                18.81   \n",
       "\n",
       "        Bottles Sold  Sale (Dollars)  Total_Cost  Volume Sold (Liters)  \\\n",
       "140109            60          818.40      545.40                  45.0   \n",
       "189956            36          677.16      451.44                  27.0   \n",
       "\n",
       "        Volume Sold (Gallons)  \n",
       "140109                  11.89  \n",
       "189956                   7.13  "
      ]
     },
     "execution_count": 826,
     "metadata": {},
     "output_type": "execute_result"
    }
   ],
   "source": [
    "verify = df[df['Bottles Sold'] < 26].groupby('City')['Bottles Sold'].sum().to_frame()\n",
    "verify.reset_index(inplace = True)\n",
    "verify = pd.merge(stores_per_city,verify,how='outer')\n",
    "verify[verify['Bottles Sold'].isnull()]\n",
    "df[df['City']=='CUMMING']\n",
    "#CUMMING is the only city that gets removed when we limit to bottles sold < 26 per transaction\n",
    "#considering there are only two transactions for CUMMING, we are okay with removing fron the analysis"
   ]
  },
  {
   "cell_type": "markdown",
   "metadata": {},
   "source": [
    "Calculating the Number of Stores per Zip Code, City, and County to be used for number of competitors as a predictor in the regression"
   ]
  },
  {
   "cell_type": "code",
   "execution_count": 942,
   "metadata": {
    "collapsed": false
   },
   "outputs": [],
   "source": [
    "#creating stores per zip/city/county.\n",
    "stores_per_zip = df.groupby('Zip Code')['Store Number'].nunique().to_frame('Stores_per_zip')\n",
    "stores_per_zip.reset_index(inplace = True)\n",
    "stores_per_city = df.groupby('City')['Store Number'].nunique().to_frame('Stores_per_City')\n",
    "stores_per_city.reset_index(inplace = True)\n",
    "stores_per_county = df.groupby('County')['Store Number'].nunique().to_frame('Stores_per_County')\n",
    "stores_per_county.reset_index(inplace = True)"
   ]
  },
  {
   "cell_type": "markdown",
   "metadata": {},
   "source": [
    "Calculating Average Items per Store per City and Sales per Store, which will be used in merges. Histogram shows that there is a skewed distribution."
   ]
  },
  {
   "cell_type": "code",
   "execution_count": 1010,
   "metadata": {
    "collapsed": false
   },
   "outputs": [
    {
     "name": "stdout",
     "output_type": "stream",
     "text": [
      "Average Items per Store per County mean is: 63.29\n",
      "Average Items per Store per County median is: 48.0\n"
     ]
    },
    {
     "data": {
      "text/html": [
       "<div>\n",
       "<table border=\"1\" class=\"dataframe\">\n",
       "  <thead>\n",
       "    <tr style=\"text-align: right;\">\n",
       "      <th></th>\n",
       "      <th>Store Number</th>\n",
       "      <th>Sale (Dollars)</th>\n",
       "    </tr>\n",
       "  </thead>\n",
       "  <tbody>\n",
       "    <tr>\n",
       "      <th>0</th>\n",
       "      <td>2106</td>\n",
       "      <td>72043.34</td>\n",
       "    </tr>\n",
       "    <tr>\n",
       "      <th>1</th>\n",
       "      <td>2113</td>\n",
       "      <td>8072.07</td>\n",
       "    </tr>\n",
       "    <tr>\n",
       "      <th>2</th>\n",
       "      <td>2130</td>\n",
       "      <td>52986.13</td>\n",
       "    </tr>\n",
       "    <tr>\n",
       "      <th>3</th>\n",
       "      <td>2152</td>\n",
       "      <td>6504.77</td>\n",
       "    </tr>\n",
       "    <tr>\n",
       "      <th>4</th>\n",
       "      <td>2178</td>\n",
       "      <td>20088.38</td>\n",
       "    </tr>\n",
       "  </tbody>\n",
       "</table>\n",
       "</div>"
      ],
      "text/plain": [
       "   Store Number  Sale (Dollars)\n",
       "0          2106        72043.34\n",
       "1          2113         8072.07\n",
       "2          2130        52986.13\n",
       "3          2152         6504.77\n",
       "4          2178        20088.38"
      ]
     },
     "execution_count": 1010,
     "metadata": {},
     "output_type": "execute_result"
    }
   ],
   "source": [
    "#county_store = df.groupby(['County','Store Number'])['Zip Code'].nunique().to_frame('Count')\n",
    "#county_store.reset_index(inplace = True)\n",
    "#county_items = pd.merge(county_store,unique_items_per_store,how= 'outer')\n",
    "#this is the average unique items per store in the county. \n",
    "#county_avgitems = county_items.groupby('County')['Unique_Items'].mean().to_frame('Avg_items_store')\n",
    "#county_avgitems.reset_index(inplace = True)\n",
    "#county_avgitems.head()\n",
    "\n",
    "#creating city-store number pair and average items per store per city\n",
    "city_store = df.groupby(['City','Store Number'])['Zip Code'].nunique().to_frame('Count')\n",
    "city_store.reset_index(inplace = True)\n",
    "city_items = pd.merge(city_store,unique_items_per_store)\n",
    "city_avgitems = city_items.groupby('City')['Unique_Items'].mean().to_frame('Average_items_store')\n",
    "city_avgitems.reset_index(inplace = True)\n",
    "sales_per_store = df[df['Bottles Sold'] < 26].groupby('Store Number')['Sale (Dollars)'].sum().to_frame()\n",
    "sales_per_store.reset_index(inplace = True)\n",
    "print 'Average Items per Store per County mean is:',city_avgitems['Average_items_store'].mean().round(2)\n",
    "print 'Average Items per Store per County median is:',city_avgitems['Average_items_store'].median()\n",
    "sales_per_store.head()"
   ]
  },
  {
   "cell_type": "code",
   "execution_count": 1002,
   "metadata": {
    "collapsed": false
   },
   "outputs": [
    {
     "data": {
      "image/png": "[encoded data removed]",
      "text/plain": [
       "<matplotlib.figure.Figure at 0x14bf46990>"
      ]
     },
     "metadata": {},
     "output_type": "display_data"
    }
   ],
   "source": [
    "#county_avgitems.hist(figsize = (15,7), color = 'darkorange')\n",
    "#plt.title('Frequency of Avg Unique Items per Store per County',fontsize = 20)\n",
    "#plt.xlabel('Avg Unique Items per Store per County',fontsize = 18)\n",
    "#plt.ylabel('Count',fontsize = 18)\n",
    "\n",
    "\n",
    "city_avgitems.hist(figsize = (15,7), color = 'darkorange')\n",
    "plt.title('Frequency of Avg Unique Items per Store per City',fontsize = 20)\n",
    "plt.xlabel('Avg Unique Items per Store per City',fontsize = 18)\n",
    "plt.ylabel('Count',fontsize = 18);"
   ]
  },
  {
   "cell_type": "markdown",
   "metadata": {},
   "source": [
    "Starting from the df (original) dataframe, and merging with various dataframes created prior, a dataframe is created to build metrics to be used as predictors for the regression, which are the following:\n",
    "* Bottles Sold\n",
    "* Items per Store\n",
    "* Average Price\n",
    "* Stores per City\n",
    "* Population\n",
    "\n"
   ]
  },
  {
   "cell_type": "code",
   "execution_count": 1068,
   "metadata": {
    "collapsed": false
   },
   "outputs": [],
   "source": []
  },
  {
   "cell_type": "code",
   "execution_count": 1094,
   "metadata": {
    "collapsed": false
   },
   "outputs": [],
   "source": [
    "#Iowa population by City for 2015 from http://www.iowadatacenter.org/\n",
    "city_pop_2015 = pd.read_csv('../Resources/IA_pop_2015.csv')\n",
    "city_pop_2015.head()\n",
    "city_pop_2015['City'] = city_pop_2015['City'].apply(lambda x: x.upper())\n",
    "\n",
    "#using store number to build the dataframe to be used for regression\n",
    "store_bottles_df = df[df['Bottles Sold'] < 26].groupby(['Store Number','City'])[['Bottles Sold','Sale (Dollars)']].sum()\n",
    "store_bottles_df.reset_index(inplace = True)\n",
    "# merging with unique items per store, which will be used as a predictor\n",
    "store_bottles_uniq_df = pd.merge(store_bottles_df,unique_items_per_store)\n",
    "#merging with total competitors per city, which will be used as a predictor\n",
    "store_df = pd.merge(store_bottles_uniq_df,stores_per_city)\n",
    "# creating a column for average price, which will be used as a predictor\n",
    "store_df['AvgPrice'] = store_df['Sale (Dollars)'] / store_df['Bottles Sold']\n",
    "#merging with city population for 2015, which will be used as a predictor\n",
    "\n",
    "store_df = pd.merge(store_df,city_pop_2015,how='left')\n",
    "\n",
    "#creating a groupby to find Bottles Sold and Sale (Dollars) by City and merging with main dataframe\n",
    "city_sales = store_df.groupby('City')[['Bottles Sold','Sale (Dollars)']].sum()\n",
    "city_sales.reset_index(inplace = True)\n",
    "city_sales = city_sales.rename(columns = {'Bottles Sold':'Bottles_City','Sale (Dollars)':'Sales_City'})\n",
    "store_df = pd.merge(store_df,city_sales)\n",
    "\n",
    "#creating dataframes for target and the predictors\n",
    "\n",
    "df_y = store_df.iloc[:,3]\n",
    "df_X = store_df.iloc[:,[2,4,5,6, 7]]\n",
    "\n",
    "# splitting into train and test\n",
    "\n",
    "X_train, X_test, y_train, y_test = train_test_split(df_X, df_y, test_size=.33)"
   ]
  },
  {
   "cell_type": "markdown",
   "metadata": {},
   "source": [
    "Now that the data and target have been created, linear regression will be performed."
   ]
  },
  {
   "cell_type": "code",
   "execution_count": 1096,
   "metadata": {
    "collapsed": false
   },
   "outputs": [
    {
     "name": "stdout",
     "output_type": "stream",
     "text": [
      "Linear Regression r^2 between Actual y and Predicted y_hat : 0.980232473714\n",
      "The Predictors are: Bottles Sold,Unique_Items,Stores_per_City,AvgPrice,Population\n",
      "Linear Regression Coefficients are: [  1.64602086e+01  -2.07815005e+01   6.31630373e+00   4.62084365e+02\n",
      "  -1.25734811e-02]\n",
      "The r^2 on the test data is: 0.980436280929\n"
     ]
    },
    {
     "data": {
      "image/png": "[encoded data removed]",
      "text/plain": [
       "<matplotlib.figure.Figure at 0x138a480d0>"
      ]
     },
     "metadata": {},
     "output_type": "display_data"
    }
   ],
   "source": [
    "#loading necessary methods\n",
    "from sklearn import linear_model\n",
    "from sklearn.metrics import r2_score,mean_squared_error\n",
    "from sklearn.cross_validation import cross_val_predict,cross_val_score\n",
    "\n",
    "#using linear regression\n",
    "lr = linear_model.LinearRegression()\n",
    "\n",
    "#fitting and predicting the model\n",
    "lr_model = lr.fit(X_train,y_train)\n",
    "lr_predict = lr.predict(X_train)\n",
    "#computing the r-squared\n",
    "lr_r2 =  r2_score(y_true=y_train, y_pred=lr_predict)\n",
    "print 'Linear Regression r^2 between Actual y and Predicted y_hat :',lr_r2\n",
    "print 'The Predictors are: {},{},{},{},{}'.format(df_X.columns[0],df_X.columns[1],df_X.columns[2],df_X.columns[3],df_X.columns[4])\n",
    "print 'Linear Regression Coefficients are:',lr_model.coef_\n",
    "\n",
    "\n",
    "\n",
    "test_linear_r2 =  r2_score(y_true=y_test, y_pred=lr.predict(X_test))\n",
    "print 'The r^2 on the test data is:',test_linear_r2\n",
    "#model fits on test data\n",
    "df_y_predict = lr.predict(df_X)\n",
    "plt.figure(figsize = (15,7))\n",
    "sns.regplot(df_y,lr.predict(df_X),line_kws = {'color':'darkorange'})\n",
    "plt.title('Predictions vs Actual Sales',fontsize = 22)\n",
    "plt.xlabel('Predicted Sales',fontsize = 20)\n",
    "plt.ylabel('Actual Sales',fontsize = 20)\n",
    "plt.ylim(0,300000)\n",
    "plt.xlim(0,300000)\n",
    "#adding predictions to the main dataframe\n",
    "\n",
    "delta = df_y - df_y_predict\n",
    "store_df['Delta'] = pd.Series(delta)\n",
    "store_df['Sales/Store_per_City'] = store_df['Sales_City'] / store_df['Stores_per_City']\n"
   ]
  },
  {
   "cell_type": "markdown",
   "metadata": {},
   "source": [
    "The correlation on the training dataset is 0.98. The coefficients for the regression show the strongest predictor is Average Price (positively correlated), followed by Unique Items (negatively correlated), Bottles Sold (positively correlated), Stores per City/Number of competition (positively correlated), and then Population (negatively correlated).\n",
    "\n",
    "What happens if another store enters the market? Using Bottles Sold / stores_per city, we can increase by one and find the new average of bottles sold / stores per city. Finding the ratio of new bottles/store over the old one, multiplied by bottles sold per store, we can find the number of bottles sold for each store assuming total demand for bottles sold per city and average price were constant. Using the new bottles sold, we can re-run the model to predict what the new Sales would be. From that we can find the highest Sales/stores per city average to figure out what cities to enter."
   ]
  },
  {
   "cell_type": "code",
   "execution_count": 1110,
   "metadata": {
    "collapsed": false
   },
   "outputs": [
    {
     "data": {
      "text/html": [
       "<div>\n",
       "<table border=\"1\" class=\"dataframe\">\n",
       "  <thead>\n",
       "    <tr style=\"text-align: right;\">\n",
       "      <th></th>\n",
       "      <th>City</th>\n",
       "      <th>Sale (Dollars)</th>\n",
       "      <th>Forecast_Sales_pred</th>\n",
       "      <th>Stores_per_City</th>\n",
       "      <th>Stores_w_entry</th>\n",
       "      <th>Sales/City</th>\n",
       "      <th>Forecast_pred/entry</th>\n",
       "    </tr>\n",
       "  </thead>\n",
       "  <tbody>\n",
       "    <tr>\n",
       "      <th>168</th>\n",
       "      <td>IOWA CITY</td>\n",
       "      <td>603895.23</td>\n",
       "      <td>610385.747220</td>\n",
       "      <td>26</td>\n",
       "      <td>27</td>\n",
       "      <td>23226.739615</td>\n",
       "      <td>22606.879527</td>\n",
       "    </tr>\n",
       "    <tr>\n",
       "      <th>360</th>\n",
       "      <td>WINDSOR HEIGHTS</td>\n",
       "      <td>180010.82</td>\n",
       "      <td>144541.677351</td>\n",
       "      <td>6</td>\n",
       "      <td>7</td>\n",
       "      <td>30001.803333</td>\n",
       "      <td>20648.811050</td>\n",
       "    </tr>\n",
       "    <tr>\n",
       "      <th>30</th>\n",
       "      <td>BETTENDORF</td>\n",
       "      <td>311104.89</td>\n",
       "      <td>267861.374206</td>\n",
       "      <td>12</td>\n",
       "      <td>13</td>\n",
       "      <td>25925.407500</td>\n",
       "      <td>20604.721093</td>\n",
       "    </tr>\n",
       "    <tr>\n",
       "      <th>61</th>\n",
       "      <td>CLINTON</td>\n",
       "      <td>221324.28</td>\n",
       "      <td>222528.853874</td>\n",
       "      <td>10</td>\n",
       "      <td>11</td>\n",
       "      <td>22132.428000</td>\n",
       "      <td>20229.895807</td>\n",
       "    </tr>\n",
       "    <tr>\n",
       "      <th>233</th>\n",
       "      <td>MT VERNON</td>\n",
       "      <td>118258.16</td>\n",
       "      <td>78517.446356</td>\n",
       "      <td>3</td>\n",
       "      <td>4</td>\n",
       "      <td>39419.386667</td>\n",
       "      <td>19629.361589</td>\n",
       "    </tr>\n",
       "  </tbody>\n",
       "</table>\n",
       "</div>"
      ],
      "text/plain": [
       "                City  Sale (Dollars)  Forecast_Sales_pred  Stores_per_City  \\\n",
       "168        IOWA CITY       603895.23        610385.747220               26   \n",
       "360  WINDSOR HEIGHTS       180010.82        144541.677351                6   \n",
       "30        BETTENDORF       311104.89        267861.374206               12   \n",
       "61           CLINTON       221324.28        222528.853874               10   \n",
       "233        MT VERNON       118258.16         78517.446356                3   \n",
       "\n",
       "     Stores_w_entry    Sales/City  Forecast_pred/entry  \n",
       "168              27  23226.739615         22606.879527  \n",
       "360               7  30001.803333         20648.811050  \n",
       "30               13  25925.407500         20604.721093  \n",
       "61               11  22132.428000         20229.895807  \n",
       "233               4  39419.386667         19629.361589  "
      ]
     },
     "execution_count": 1110,
     "metadata": {},
     "output_type": "execute_result"
    }
   ],
   "source": [
    "store_zip = df.groupby(['Store Number','Zip Code'])['County'].nunique().to_frame()\n",
    "store_zip.reset_index(inplace = True)\n",
    "store_df = pd.merge(store_df,store_zip.iloc[:,0:2])\n",
    "store_df.sort_values('Delta',ascending = False).head(10)\n",
    "forecast = store_df.iloc[:,[0,1,12,2,3,4,5,6,7,8]].copy()\n",
    "forecast.head(1)\n",
    "#forecasting if one more store opened up. \n",
    "#Assuming bottles sold per city and price are constant, lets find a ratio to find forecasted bottles sold per city\n",
    "forecast['Bottles/store'] = forecast['Bottles_City'] / forecast['Stores_per_City']\n",
    "forecast['Bottles/(store+1)'] = (forecast['Bottles_City'] / (forecast['Stores_per_City'] + 1))\n",
    "forecast['Bottles_marketshare'] = forecast['Bottles Sold'] / forecast['Bottles_City']\n",
    "forecast['Bottles_forecast'] = (forecast['Bottles/(store+1)']*forecast['Stores_per_City']*forecast['Bottles_marketshare'])\n",
    "forecast_X = forecast.iloc[:,[13,5,6,7,8]]\n",
    "#using the model to predict sales when there is a new entry\n",
    "\n",
    "forecast_sales = lr.predict(forecast_X)\n",
    "forecast['Forecast_Sales_pred'] = pd.Series(forecast_sales)\n",
    "forecast\n",
    "#using calculated bottles forecast * average price\n",
    "\n",
    "#forecast['Forecast_Sales_calc'] = forecast['Bottles_forecast'] * forecast['AvgPrice']\n",
    "\n",
    "#analyzing which cities have the highest forecasted sales per store (with one additional entry)\n",
    "\n",
    "forecast_city = forecast.groupby('City')[['Sale (Dollars)','Forecast_Sales_pred']].sum()\n",
    "forecast_city.reset_index(inplace = True)\n",
    "\n",
    "#merging with stores per city\n",
    "forecast_city = pd.merge(forecast_city,stores_per_city)\n",
    "forecast_city\n",
    "#adding one to stores/city\n",
    "forecast_city['Stores_w_entry'] = forecast_city['Stores_per_City'] + 1\n",
    "\n",
    "#analyzing which cities have the highest forecasted sales/store\n",
    "forecast_city['Sales/City'] = forecast_city['Sale (Dollars)'] / forecast_city['Stores_per_City']\n",
    "forecast_city['Forecast_pred/entry'] = forecast_city['Forecast_Sales_pred'] / forecast_city['Stores_w_entry']\n",
    "#forecast_city['Forecast_calc/entry'] = forecast_city['Forecast_Sales_calc'] / forecast_city['Stores_w_entry']\n",
    "\n",
    "forecast_city.sort_values('Forecast_pred/entry',ascending = False).head()"
   ]
  },
  {
   "cell_type": "markdown",
   "metadata": {},
   "source": [
    "Once we know which markets to enter, we can find the average number of items among the competitors,types of competitors, and also the items and prices to which we place in the store."
   ]
  },
  {
   "cell_type": "code",
   "execution_count": 1098,
   "metadata": {
    "collapsed": false
   },
   "outputs": [
    {
     "name": "stdout",
     "output_type": "stream",
     "text": [
      "The Average Sales/City where there is at least 1 Liquor or Grocery Store: $ 76341.02\n"
     ]
    },
    {
     "data": {
      "text/html": [
       "<div>\n",
       "<table border=\"1\" class=\"dataframe\">\n",
       "  <thead>\n",
       "    <tr style=\"text-align: right;\">\n",
       "      <th></th>\n",
       "      <th>Liquor</th>\n",
       "      <th>Grocery</th>\n",
       "      <th>Other</th>\n",
       "      <th>Sale (Dollars)</th>\n",
       "    </tr>\n",
       "    <tr>\n",
       "      <th>City</th>\n",
       "      <th></th>\n",
       "      <th></th>\n",
       "      <th></th>\n",
       "      <th></th>\n",
       "    </tr>\n",
       "  </thead>\n",
       "  <tbody>\n",
       "    <tr>\n",
       "      <th>DES MOINES</th>\n",
       "      <td>11</td>\n",
       "      <td>33</td>\n",
       "      <td>46</td>\n",
       "      <td>1749891.08</td>\n",
       "    </tr>\n",
       "    <tr>\n",
       "      <th>CEDAR RAPIDS</th>\n",
       "      <td>13</td>\n",
       "      <td>21</td>\n",
       "      <td>40</td>\n",
       "      <td>1193081.11</td>\n",
       "    </tr>\n",
       "    <tr>\n",
       "      <th>DAVENPORT</th>\n",
       "      <td>10</td>\n",
       "      <td>12</td>\n",
       "      <td>20</td>\n",
       "      <td>781989.02</td>\n",
       "    </tr>\n",
       "    <tr>\n",
       "      <th>SIOUX CITY</th>\n",
       "      <td>3</td>\n",
       "      <td>11</td>\n",
       "      <td>20</td>\n",
       "      <td>612699.00</td>\n",
       "    </tr>\n",
       "    <tr>\n",
       "      <th>IOWA CITY</th>\n",
       "      <td>6</td>\n",
       "      <td>8</td>\n",
       "      <td>12</td>\n",
       "      <td>603895.23</td>\n",
       "    </tr>\n",
       "  </tbody>\n",
       "</table>\n",
       "</div>"
      ],
      "text/plain": [
       "              Liquor  Grocery  Other  Sale (Dollars)\n",
       "City                                                \n",
       "DES MOINES        11       33     46      1749891.08\n",
       "CEDAR RAPIDS      13       21     40      1193081.11\n",
       "DAVENPORT         10       12     20       781989.02\n",
       "SIOUX CITY         3       11     20       612699.00\n",
       "IOWA CITY          6        8     12       603895.23"
      ]
     },
     "execution_count": 1098,
     "metadata": {},
     "output_type": "execute_result"
    },
    {
     "data": {
      "image/png": "[encoded data removed]",
      "text/plain": [
       "<matplotlib.figure.Figure at 0x14be1d050>"
      ]
     },
     "metadata": {},
     "output_type": "display_data"
    }
   ],
   "source": [
    "#make all category names upper case\n",
    "#create category bins to be used for portfolio\n",
    "df['Category Name'] = df['Category Name'].apply(lambda x: str(x).upper())\n",
    "category = df.groupby('Category Name')['Item Number'].nunique().to_frame()\n",
    "category.reset_index(inplace = True)\n",
    "#creating category bins \n",
    "cat_bins = []\n",
    "for x in df['Category Name']:\n",
    "    if 'VODKA' in x:\n",
    "        cat_bins.append('VODKA')\n",
    "    elif 'WHISKEY' in x:\n",
    "        cat_bins.append('WHISKEY')\n",
    "    elif 'RUM' in x:\n",
    "        cat_bins.append('RUM')\n",
    "    elif 'SCHNAPPS' in x:\n",
    "        cat_bins.append('SCHNAPPS')\n",
    "    elif 'BRANDIES' in x:\n",
    "        cat_bins.append('BRANDIES')    \n",
    "    elif 'GIN' in x:\n",
    "        cat_bins.append('GIN') \n",
    "    elif 'SCOTCH' in x:\n",
    "        cat_bins.append('SCOTCH') \n",
    "    elif 'BOURBON' in x:\n",
    "        cat_bins.append('BOURBON')\n",
    "    elif 'AMARETTO' in x:\n",
    "        cat_bins.append('AMARETTO')         \n",
    "    elif 'TEQUILA' in x:\n",
    "        cat_bins.append('TEQUILA') \n",
    "    else:\n",
    "        cat_bins.append('OTHER')\n",
    "cat_bin_df = pd.DataFrame(cat_bins)\n",
    "cat_bin_df = cat_bin_df.rename(columns = {0:'Category_Bins'})\n",
    "\n",
    "#categorizing each store number\n",
    "store_names = pd.read_csv('../Resources/IA_Data_Stores.csv')\n",
    "city_store = train.groupby(['Store Number','City'])['County'].nunique().to_frame()\n",
    "city_store.reset_index(inplace = True)\n",
    "total_citystore = pd.merge(city_store,store_names,on='Store Number')\n",
    "store_type = []\n",
    "liquor_list = []\n",
    "grocery_list = []\n",
    "other_list = []\n",
    "for x in total_citystore['Store Name']:\n",
    "    if ('liquor' or 'spirits' or 'wine') in x.lower():\n",
    "        store_type.append('Liquor')\n",
    "        liquor_list.append(1)\n",
    "        grocery_list.append(0)\n",
    "        other_list.append(0)\n",
    "    elif ('spirits') in x.lower():\n",
    "        store_type.append('Liquor')\n",
    "        liquor_list.append(1)\n",
    "        grocery_list.append(0)\n",
    "        other_list.append(0)\n",
    "    elif ('wine') in x.lower():\n",
    "        store_type.append('Liquor')\n",
    "        liquor_list.append(1)\n",
    "        grocery_list.append(0)\n",
    "        other_list.append(0)\n",
    "    elif ('beverage') in x.lower():\n",
    "        store_type.append('Liquor')\n",
    "        liquor_list.append(1)\n",
    "        grocery_list.append(0)\n",
    "        other_list.append(0)\n",
    "    elif ('bottle') in x.lower():\n",
    "        store_type.append('Liquor')  \n",
    "        liquor_list.append(1)\n",
    "        grocery_list.append(0)\n",
    "        other_list.append(0)\n",
    "    elif ('vineyard') in x.lower():\n",
    "        store_type.append('Liquor')\n",
    "        liquor_list.append(1)\n",
    "        grocery_list.append(0)\n",
    "        other_list.append(0)\n",
    "    elif ('beer') in x.lower():\n",
    "        store_type.append('Liquor')\n",
    "        liquor_list.append(1)\n",
    "        grocery_list.append(0)\n",
    "        other_list.append(0)\n",
    "    elif ('cellar') in x.lower():\n",
    "        store_type.append('Liquor')\n",
    "        liquor_list.append(1)\n",
    "        grocery_list.append(0)\n",
    "        other_list.append(0)\n",
    "    elif ('holler') in x.lower():\n",
    "        store_type.append('Liquor')\n",
    "        liquor_list.append(1)\n",
    "        grocery_list.append(0)\n",
    "        other_list.append(0)\n",
    "    elif ('distribution') in x.lower():\n",
    "        store_type.append('Liquor')\n",
    "        liquor_list.append(1)\n",
    "        grocery_list.append(0)\n",
    "        other_list.append(0)\n",
    "    elif ('central city') in x.lower():\n",
    "        store_type.append('Liquor')\n",
    "        liquor_list.append(1)\n",
    "        grocery_list.append(0)\n",
    "        other_list.append(0)\n",
    "    elif ('distributing') in x.lower():\n",
    "        store_type.append('Liquor')\n",
    "        liquor_list.append(1)\n",
    "        grocery_list.append(0)\n",
    "        other_list.append(0)\n",
    "    elif 'hy-vee' in x.lower():\n",
    "        store_type.append('Grocery')\n",
    "        liquor_list.append(0)\n",
    "        grocery_list.append(1)\n",
    "        other_list.append(0)\n",
    "    elif 'fareway' in x.lower():\n",
    "        store_type.append('Grocery')\n",
    "        liquor_list.append(0)\n",
    "        grocery_list.append(1)\n",
    "        other_list.append(0)\n",
    "    elif 'target'in x.lower():\n",
    "        store_type.append('Grocery') \n",
    "        liquor_list.append(0)\n",
    "        grocery_list.append(1)\n",
    "        other_list.append(0)\n",
    "    elif 'wal-mart' in x.lower():\n",
    "        store_type.append('Grocery') \n",
    "        liquor_list.append(0)\n",
    "        grocery_list.append(1)\n",
    "        other_list.append(0)\n",
    "    elif 'food' in x.lower():\n",
    "        store_type.append('Grocery')\n",
    "        liquor_list.append(0)\n",
    "        grocery_list.append(1)\n",
    "        other_list.append(0)\n",
    "    elif 'supermarket' in x.lower():\n",
    "        store_type.append('Grocery')           \n",
    "        liquor_list.append(0)\n",
    "        grocery_list.append(1)\n",
    "        other_list.append(0)\n",
    "    elif 'dahl\\'s' in x.lower():\n",
    "        store_type.append('Grocery')           \n",
    "        liquor_list.append(0)\n",
    "        grocery_list.append(1)\n",
    "        other_list.append(0)        \n",
    "    elif 'sam\\'s club' in x.lower():\n",
    "        store_type.append('Grocery')           \n",
    "        liquor_list.append(0)\n",
    "        grocery_list.append(1)\n",
    "        other_list.append(0)       \n",
    "    elif 'econ-o-mart' in x.lower():\n",
    "        store_type.append('Grocery')           \n",
    "        liquor_list.append(0)\n",
    "        grocery_list.append(1)\n",
    "        other_list.append(0)          \n",
    "    elif 'super valu' in x.lower():\n",
    "        store_type.append('Grocery')           \n",
    "        liquor_list.append(0)\n",
    "        grocery_list.append(1)\n",
    "        other_list.append(0)\n",
    "    elif 'shop n save' in x.lower():\n",
    "        store_type.append('Grocery')           \n",
    "        liquor_list.append(0)\n",
    "        grocery_list.append(1)\n",
    "        other_list.append(0)\n",
    "    elif 'grocery' in x.lower():\n",
    "        store_type.append('Grocery')           \n",
    "        liquor_list.append(0)\n",
    "        grocery_list.append(1)\n",
    "        other_list.append(0)\n",
    "    elif 'pantry' in x.lower():\n",
    "        store_type.append('Grocery')           \n",
    "        liquor_list.append(0)\n",
    "        grocery_list.append(1)\n",
    "        other_list.append(0)\n",
    "    elif 'costco' in x.lower():\n",
    "        store_type.append('Grocery')           \n",
    "        liquor_list.append(0)\n",
    "        grocery_list.append(1)\n",
    "        other_list.append(0)\n",
    "    elif 'price chopper' in x.lower():\n",
    "        store_type.append('Grocery')           \n",
    "        liquor_list.append(0)\n",
    "        grocery_list.append(1)\n",
    "        other_list.append(0)\n",
    "    elif 'save a lot' in x.lower():\n",
    "        store_type.append('Grocery')           \n",
    "        liquor_list.append(0)\n",
    "        grocery_list.append(1)\n",
    "        other_list.append(0)\n",
    "    else:\n",
    "        store_type.append('Other')\n",
    "        liquor_list.append(0)\n",
    "        grocery_list.append(0)\n",
    "        other_list.append(1)\n",
    "total_citystore['Store Type'] = pd.Series(store_type)\n",
    "total_citystore['Liquor'] = pd.Series(liquor_list)\n",
    "total_citystore['Grocery'] = pd.Series(grocery_list)\n",
    "total_citystore['Other'] = pd.Series(other_list)\n",
    "\n",
    "total_citystore_merge = total_citystore.iloc[:,[0,1,3,4,5,6,7]]\n",
    " \n",
    "#groupby store type and evaluate metrics for each store type for the state of iowa\n",
    "#liquor stores have higher mean liquor sales than groceries and convenience stores\n",
    "#convenience stores might be the go to place for small rural towns\n",
    "store_type_sales.groupby('Store Type')['Sale (Dollars)'].agg({sum,len,np.mean})\n",
    "\n",
    "#what about cities where there are at least one liquor store or grocery stores\n",
    "city_type_sales = store_type_sales.groupby('City')[['Liquor','Grocery','Other','Sale (Dollars)']].sum()\n",
    "#the average sales per city where there is at least 1 grocery or 1 liquor store\n",
    "mean_city_grocery_liquor = city_type_sales[(city_type_sales['Liquor']>0) |(city_type_sales['Grocery']>0)]['Sale (Dollars)'].mean()\n",
    "print 'The Average Sales/City where there is at least 1 Liquor or Grocery Store: $',mean_city_grocery_liquor.round(2)\n",
    "city_type_sales.sort_values('Sale (Dollars)',ascending = False).head()"
   ]
  },
  {
   "cell_type": "markdown",
   "metadata": {},
   "source": [
    "## Record your findings\n",
    "\n",
    "The skewed variables are:\n",
    "\n",
    "Avg_items_store is the average items per store for the county, it is a proxy for size of store"
   ]
  },
  {
   "cell_type": "markdown",
   "metadata": {},
   "source": [
    "# Mine the data\n",
    "Now you are ready to compute the variables you will use for your regression from the data. For example, you may want to\n",
    "compute total sales per store from Jan to March of 2015, mean price per bottle, etc. Refer to the readme for more ideas appropriate to your scenario.\n",
    "\n",
    "Pandas is your friend for this task. Take a look at the operations [here](http://pandas.pydata.org/pandas-docs/stable/groupby.html) for ideas on how to make the best use of pandas and feel free to search for blog and Stack Overflow posts to help you group data by certain variables and compute sums, means, etc. You may find it useful to create a new data frame to house this summary data."
   ]
  },
  {
   "cell_type": "markdown",
   "metadata": {},
   "source": [
    "# Refine the data\n",
    "Look for any statistical relationships, correlations, or other relevant properties of the dataset."
   ]
  },
  {
   "cell_type": "markdown",
   "metadata": {},
   "source": [
    "# Build your models\n",
    "\n",
    "Using scikit-learn or statsmodels, build the necessary models for your scenario. Evaluate model fit."
   ]
  },
  {
   "cell_type": "markdown",
   "metadata": {},
   "source": [
    "## Plot your results\n",
    "\n",
    "Again make sure that you record any valuable information. For example, in the tax scenario, did you find the sales from the first three months of the year to be a good predictor of the total sales for the year? Plot the predictions versus the true values and discuss the successes and limitations of your models"
   ]
  },
  {
   "cell_type": "code",
   "execution_count": null,
   "metadata": {
    "collapsed": true
   },
   "outputs": [],
   "source": []
  },
  {
   "cell_type": "markdown",
   "metadata": {},
   "source": [
    "# Present the Results\n",
    "\n",
    "Present your conclusions and results. If you have more than one interesting model feel free to include more than one along with a discussion. Use your work in this notebook to prepare your write-up."
   ]
  },
  {
   "cell_type": "code",
   "execution_count": null,
   "metadata": {
    "collapsed": true
   },
   "outputs": [],
   "source": []
  }
 ],
 "metadata": {
  "anaconda-cloud": {},
  "kernelspec": {
   "display_name": "Python [default]",
   "language": "python",
   "name": "python2"
  },
  "language_info": {
   "codemirror_mode": {
    "name": "ipython",
    "version": 2
   },
   "file_extension": ".py",
   "mimetype": "text/x-python",
   "name": "python",
   "nbconvert_exporter": "python",
   "pygments_lexer": "ipython2",
   "version": "2.7.12"
  }
 },
 "nbformat": 4,
 "nbformat_minor": 0
}
